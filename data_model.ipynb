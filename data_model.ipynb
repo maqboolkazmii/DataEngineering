{
 "cells": [
  {
   "cell_type": "markdown",
   "metadata": {},
   "source": [
    "# import Libraries"
   ]
  },
  {
   "cell_type": "code",
   "execution_count": 1,
   "metadata": {},
   "outputs": [],
   "source": [
    "import psycopg2\n",
    "import pandas as pd"
   ]
  },
  {
   "cell_type": "code",
   "execution_count": 2,
   "metadata": {},
   "outputs": [],
   "source": [
    "def create_database():\n",
    "    #connect to default databse\n",
    "    conn = psycopg2.connect(\"host=local dbname=postgres user=postgre password=qwerty\")\n",
    "    conn.set_session(autocommit=True)\n",
    "    cur= conn.cursor()\n",
    "\n",
    "    #create a database\n",
    "    cur.execute(\"DROP DATABSE accounts\")\n",
    "    cur.execute(\"CREATE DATABSE account\")\n",
    "\n",
    "    #close connectin to default databse\n",
    "    conn.close()\n",
    "\n",
    "    #connect to sparkify databse\n",
    "    conn = psycopg2.connect(\"host=local dbname=accounts user=postgre password ==qwerty\")\n",
    "    cur= conn.cursor()\n",
    "\n",
    "    return cur, conn"
   ]
  },
  {
   "cell_type": "code",
   "execution_count": 3,
   "metadata": {},
   "outputs": [],
   "source": [
    "def drop_table(cur , conn):\n",
    "    for query in drop_table:\n",
    "        cur.execute(query)\n",
    "        conn.commit()"
   ]
  },
  {
   "cell_type": "code",
   "execution_count": null,
   "metadata": {},
   "outputs": [],
   "source": [
    "def create_tables(cur , conn):\n",
    "    for query in create_tables:\n",
    "        cur.execute(query)\n",
    "        conn.commit()"
   ]
  }
 ],
 "metadata": {
  "kernelspec": {
   "display_name": "Python 3",
   "language": "python",
   "name": "python3"
  },
  "language_info": {
   "codemirror_mode": {
    "name": "ipython",
    "version": 3
   },
   "file_extension": ".py",
   "mimetype": "text/x-python",
   "name": "python",
   "nbconvert_exporter": "python",
   "pygments_lexer": "ipython3",
   "version": "3.10.7"
  },
  "orig_nbformat": 4
 },
 "nbformat": 4,
 "nbformat_minor": 2
}
